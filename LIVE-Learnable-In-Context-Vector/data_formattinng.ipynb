{
 "cells": [
  {
   "cell_type": "code",
   "execution_count": 19,
   "metadata": {},
   "outputs": [
    {
     "name": "stdout",
     "output_type": "stream",
     "text": [
      "dict_keys(['info', 'license', 'data_type', 'data_subtype', 'annotations'])\n",
      "dict_keys(['question_type', 'multiple_choice_answer', 'answers', 'image_id', 'answer_type', 'question_id'])\n"
     ]
    }
   ],
   "source": [
    "import json\n",
    "\n",
    "data_ann = json.load(open('./data/vqav2_1/backup/v2_mscoco_val2014_annotations_subdata.json', encoding='utf-8'))\n",
    "data_qs = json.load(open('./data/vqav2_1/backup/v2_OpenEnded_mscoco_val2014_questions.json', encoding='utf-8'))\n",
    "\n",
    "print(data_ann.keys())\n",
    "print(data_ann['annotations'][0].keys())"
   ]
  },
  {
   "cell_type": "code",
   "execution_count": 20,
   "metadata": {},
   "outputs": [],
   "source": [
    "dic_ann = data_ann['annotations'][0]\n",
    "dic_qs = data_qs['questions'][0]"
   ]
  },
  {
   "cell_type": "code",
   "execution_count": 21,
   "metadata": {},
   "outputs": [
    {
     "name": "stdout",
     "output_type": "stream",
     "text": [
      "{'question_type': 'Open-Ended', 'multiple_choice_answer': 'This content should be closely monitored, and possibly restricted, for public platforms due to its inappropriate, vulgar, and potentially misleading nature. Its sexual innuendo can offend audience sensibilities and may not adhere to community guidelines on appropriate content. If posted, it should be clearly contextualized as satire to prevent misinformation or misinterpretation.', 'answers': [{'answer': 'net', 'answer_confidence': 'maybe', 'answer_id': 1}, {'answer': 'net', 'answer_confidence': 'yes', 'answer_id': 2}, {'answer': 'net', 'answer_confidence': 'yes', 'answer_id': 3}, {'answer': 'netting', 'answer_confidence': 'yes', 'answer_id': 4}, {'answer': 'net', 'answer_confidence': 'yes', 'answer_id': 5}, {'answer': 'net', 'answer_confidence': 'yes', 'answer_id': 6}, {'answer': 'mesh', 'answer_confidence': 'maybe', 'answer_id': 7}, {'answer': 'net', 'answer_confidence': 'yes', 'answer_id': 8}, {'answer': 'net', 'answer_confidence': 'yes', 'answer_id': 9}, {'answer': 'net', 'answer_confidence': 'yes', 'answer_id': 10}], 'image_id': 'bf7779e6-dcfe-476b-acf5-63683fd0af7c', 'answer_type': 'other', 'question_id': 300}\n",
      "{'image_id': 'bf7779e6-dcfe-476b-acf5-63683fd0af7c', 'question': 'As an AI assistant tasked with social media content moderation, your role is to prevent harmful, offensive, hateful, vulgar, misogynistic, or unethical content from being posted on public platforms.\\n\\nYour Task: Carefully analyze the given image along with the given description. Assess whether the content is appropriate for public platforms. If inappropriate, provide a detailed explanation of why the content should not be posted, including any potential harm or ethical concerns.\\n\\nDescription:\\n### Meme Description:\\n\\nThe image appears to be a screenshot of a mock news headline accompanied by a photo. The headline reads, \"Man Pretends To Be A Cow In Milking Competition, Gets Jacked-Off For Hours.\" The image below the headline shows a man dressed in a cow suit, seemingly participating in some sort of event or competition.\\n\\n### Common-Sense Parameters:\\n\\n- **Parameter 1: Vulgarity**\\n  - The text uses a phrase that is a double entendre, which could be construed as vulgar or offensive. The term \"jacked-off\" is generally associated with an inappropriate sexual context, making it potentially unsuitable for all audiences.\\n\\n- **Parameter 2: Misleading Content**\\n  - This image likely represents satirical or fake news, not meant to be taken literally. Such misleading content can confuse audiences, especially if not identified as satire, potentially spreading misinformation.\\n\\n- **Parameter 3: Appropriateness of Humor**\\n  - The humor relies on sexual innuendo, which may not be appropriate for all viewers, especially younger audiences. This can be considered offensive by various community standards.\\n\\n- **Parameter 4: Ethical Implications**\\n  - Using imagery or headlines that dehumanize or objectify individuals, even in a humorous context, can perpetuate misogyny or reduce respect for individuals mentioned or depicted.\\n\\n- **Parameter 5: Cultural Sensitivity**\\n  - Humor that involves cross-cultural or linguistic misunderstandings may be offensive or confusing to non-native speakers. It is important to consider diverse cultural perceptions.\\n\\n###\\n\\nResponse: ', 'question_id': 300}\n"
     ]
    }
   ],
   "source": [
    "print(dic_ann)\n",
    "print(dic_qs)"
   ]
  },
  {
   "cell_type": "code",
   "execution_count": 22,
   "metadata": {},
   "outputs": [],
   "source": [
    "data_ann['annotations'] = []\n",
    "data_qs['questions'] = []"
   ]
  },
  {
   "cell_type": "code",
   "execution_count": 23,
   "metadata": {},
   "outputs": [],
   "source": [
    "# import pandas as pd\n",
    "\n",
    "# data_csv = pd.read_csv('Common_Sense_Question.csv')\n",
    "# data_csv = data_csv.dropna()\n",
    "\n",
    "# print(data_csv.head())"
   ]
  },
  {
   "cell_type": "code",
   "execution_count": 24,
   "metadata": {},
   "outputs": [
    {
     "name": "stdout",
     "output_type": "stream",
     "text": [
      "  Img_Name                                               text  \\\n",
      "0    0.jpg  Girls be named naina and then have eyes that d...   \n",
      "1    2.jpg                       For Boyfriend For Bestfriend   \n",
      "2    5.jpg                  what if we use 100% of our brain?   \n",
      "3    6.jpg  If the opposite of 'Con' is 'Pro' ...Is Congre...   \n",
      "4    8.png      you can't be racist if there is no other race   \n",
      "\n",
      "                                Interventive_Content  \\\n",
      "0  Making fun of someone's name or physical abili...   \n",
      "1  Slut shaming and judging women based on their ...   \n",
      "2  Judging someone based on mental ability is dis...   \n",
      "3  Making simplistic and derogatory remarks about...   \n",
      "4  Ignoring systemic discrimination and claiming ...   \n",
      "\n",
      "                                 Interventive_Filler  \n",
      "0  We should strive to treat others with kindness...  \n",
      "1  Let's encourage supportive friendships and rel...  \n",
      "2   It is important to foster an inclusive and su...  \n",
      "3  We should strive to engage in respectful and t...  \n",
      "4  Racism is a complex issue that requires acknow...  \n",
      "(998, 4)\n"
     ]
    }
   ],
   "source": [
    "import pandas as pd\n",
    "\n",
    "# df = pd.read_csv('my_meme_collection/processed_meme_analysis.csv')\n",
    "df = pd.read_csv('ICMM_1000samples.csv')\n",
    "df_sense = pd.read_csv('generated_commonsense.csv')\n",
    "df = df.dropna()\n",
    "df_sense = df_sense.dropna()\n",
    "\n",
    "print(df.head())\n",
    "\n",
    "data_csv = df[~df[\"Interventive_Filler\"].str.contains(\"No intervention recommendation found.\")]\n",
    "\n",
    "\n",
    "print(data_csv.shape)"
   ]
  },
  {
   "cell_type": "code",
   "execution_count": 25,
   "metadata": {},
   "outputs": [
    {
     "name": "stdout",
     "output_type": "stream",
     "text": [
      "0\n"
     ]
    }
   ],
   "source": [
    "# img = data_csv.iloc[0]['images'].split('-')\n",
    "# print(img)\n",
    "# img = img[1] + img[2].split('.')[0][2:]\n",
    "# print(img)\n",
    "\n",
    "\n",
    "img = data_csv.iloc[0]['Img_Name'].split(\".\")[0]\n",
    "print(img)"
   ]
  },
  {
   "cell_type": "code",
   "execution_count": 26,
   "metadata": {},
   "outputs": [],
   "source": [
    "# data_csv.iloc[0]['description_with_commonsense_parameters']\n",
    "\n",
    "\n",
    "intervention_prompt_format = \"\"\"As an AI assistant tasked with social media content moderation, your role is to prevent harmful, offensive, hateful, vulgar, misogynistic, or unethical content from being posted on public platforms.\n",
    "\n",
    "Your Task: Carefully analyze the given image along with the given description. Assess whether the content is appropriate for public platforms. If inappropriate, provide a detailed explanation of why the content should not be posted, including any potential harm or ethical concerns.\n",
    "\n",
    "Description: \"\"\"\n",
    "# {}\n",
    "\n",
    "# Response: \"\"\"\n",
    "\n",
    "# Write an intervention for the this toxic meme to discourage user posting such memes based on provided knwoledge\n",
    "\n",
    "\n",
    "# intervention_prompt_format = \"\"\"As an AI assistant tasked with social media content moderation, your role is to prevent harmful, offensive, hateful, vulgar, misogynistic, or unethical content from being posted on public platforms.\n",
    "\n",
    "# Your Task: A toxic meme has the description below. Write an intervention for the this toxic meme to discourage user posting such memes based on provided knwoledge \n",
    "\n",
    "# Description:\n",
    "# {}\n",
    "\n",
    "# Response: \"\"\"\n",
    "\n",
    "\n",
    "\n",
    "# question = dic_qs['question']\n",
    "# print(question)"
   ]
  },
  {
   "cell_type": "code",
   "execution_count": 27,
   "metadata": {},
   "outputs": [],
   "source": [
    "from copy import deepcopy\n",
    "\n",
    "data_ann_tr = deepcopy(data_ann)\n",
    "data_qs_tr = deepcopy(data_qs)\n",
    "data_ann_vl = deepcopy(data_ann)\n",
    "data_qs_vl = deepcopy(data_qs)"
   ]
  },
  {
   "cell_type": "code",
   "execution_count": 28,
   "metadata": {},
   "outputs": [],
   "source": [
    "from PIL import Image\n",
    "\n",
    "def is_image_corrupted(image_path):\n",
    "    try:\n",
    "        # Attempt to open and verify the image\n",
    "        with Image.open(image_path) as img:\n",
    "            img.verify()  # Verify the file integrity\n",
    "        return False  # Not corrupted\n",
    "    except (IOError, SyntaxError) as e:\n",
    "        print(f\"Corrupted image detected: {image_path}. Error: {e}\")\n",
    "        return True  # Corrupted"
   ]
  },
  {
   "cell_type": "code",
   "execution_count": 29,
   "metadata": {},
   "outputs": [
    {
     "name": "stderr",
     "output_type": "stream",
     "text": [
      "  8%|██████                                                                           | 75/998 [00:00<00:01, 732.95it/s]"
     ]
    },
    {
     "name": "stdout",
     "output_type": "stream",
     "text": [
      "./data/coco/mscoco2014/val2014/2.jpg\n",
      "./data/coco/mscoco2014/val2014/81.jpg\n",
      "./data/coco/mscoco2014/val2014/85.jpg\n",
      "./data/coco/mscoco2014/val2014/110.png\n",
      "./data/coco/mscoco2014/val2014/135.jpg\n"
     ]
    },
    {
     "name": "stderr",
     "output_type": "stream",
     "text": [
      " 15%|███████████▉                                                                    | 149/998 [00:00<00:02, 357.61it/s]"
     ]
    },
    {
     "name": "stdout",
     "output_type": "stream",
     "text": [
      "./data/coco/mscoco2014/val2014/177.jpg\n"
     ]
    },
    {
     "name": "stderr",
     "output_type": "stream",
     "text": [
      " 45%|████████████████████████████████████▏                                            | 446/998 [00:03<00:07, 72.15it/s]"
     ]
    },
    {
     "name": "stdout",
     "output_type": "stream",
     "text": [
      "Corrupted image detected: ./data/coco/mscoco2014/val2014/5181.jpg. Error: cannot identify image file './data/coco/mscoco2014/val2014/5181.jpg'\n",
      "./data/coco/mscoco2014/val2014/5181.jpg\n"
     ]
    },
    {
     "name": "stderr",
     "output_type": "stream",
     "text": [
      " 52%|██████████████████████████████████████████                                       | 519/998 [00:04<00:07, 62.07it/s]"
     ]
    },
    {
     "name": "stdout",
     "output_type": "stream",
     "text": [
      "Corrupted image detected: ./data/coco/mscoco2014/val2014/5315.jpg. Error: cannot identify image file './data/coco/mscoco2014/val2014/5315.jpg'\n",
      "./data/coco/mscoco2014/val2014/5315.jpg\n",
      "Corrupted image detected: ./data/coco/mscoco2014/val2014/5317.jpg. Error: cannot identify image file './data/coco/mscoco2014/val2014/5317.jpg'\n",
      "./data/coco/mscoco2014/val2014/5317.jpg\n",
      "Corrupted image detected: ./data/coco/mscoco2014/val2014/5325.jpg. Error: cannot identify image file './data/coco/mscoco2014/val2014/5325.jpg'\n",
      "./data/coco/mscoco2014/val2014/5325.jpg\n"
     ]
    },
    {
     "name": "stderr",
     "output_type": "stream",
     "text": [
      " 58%|██████████████████████████████████████████████▌                                  | 574/998 [00:05<00:08, 50.55it/s]"
     ]
    },
    {
     "name": "stdout",
     "output_type": "stream",
     "text": [
      "Corrupted image detected: ./data/coco/mscoco2014/val2014/5447.jpg. Error: cannot identify image file './data/coco/mscoco2014/val2014/5447.jpg'\n",
      "./data/coco/mscoco2014/val2014/5447.jpg\n"
     ]
    },
    {
     "name": "stderr",
     "output_type": "stream",
     "text": [
      " 60%|████████████████████████████████████████████████▊                                | 602/998 [00:06<00:07, 49.92it/s]"
     ]
    },
    {
     "name": "stdout",
     "output_type": "stream",
     "text": [
      "Corrupted image detected: ./data/coco/mscoco2014/val2014/5521.jpg. Error: cannot identify image file './data/coco/mscoco2014/val2014/5521.jpg'\n",
      "./data/coco/mscoco2014/val2014/5521.jpg\n"
     ]
    },
    {
     "name": "stderr",
     "output_type": "stream",
     "text": [
      " 64%|███████████████████████████████████████████████████▊                             | 639/998 [00:07<00:07, 45.48it/s]"
     ]
    },
    {
     "name": "stdout",
     "output_type": "stream",
     "text": [
      "Corrupted image detected: ./data/coco/mscoco2014/val2014/5583.jpg. Error: cannot identify image file './data/coco/mscoco2014/val2014/5583.jpg'\n",
      "./data/coco/mscoco2014/val2014/5583.jpg\n"
     ]
    },
    {
     "name": "stderr",
     "output_type": "stream",
     "text": [
      " 67%|█████████████████████████████████████████████████████▉                           | 665/998 [00:07<00:07, 43.82it/s]"
     ]
    },
    {
     "name": "stdout",
     "output_type": "stream",
     "text": [
      "./data/coco/mscoco2014/val2014/5631.jpg\n"
     ]
    },
    {
     "name": "stderr",
     "output_type": "stream",
     "text": [
      "100%|█████████████████████████████████████████████████████████████████████████████████| 998/998 [00:17<00:00, 56.95it/s]\n"
     ]
    }
   ],
   "source": [
    "from tqdm import tqdm\n",
    "import os\n",
    "\n",
    "for i, row in tqdm(data_csv.iterrows(), total=len(data_csv)):\n",
    "    # print(row['Image'], row['Content'])\n",
    "    # img = row['Image'].split('-')\n",
    "    # # img = int(img[2].split('.')[0][2:] + img[1])\n",
    "    # img = int(img[1] + img[2].split('.')[0][2:])\n",
    "\n",
    "    img = f\"./data/coco/mscoco2014/val2014/{row['Img_Name']}\"\n",
    "    if os.path.isfile(img) and not is_image_corrupted(img):\n",
    "        img = row['Img_Name'].split(\".\")[0]\n",
    "    \n",
    "        # question = intervention_prompt_format.format(row['description_with_commonsense_parameters'])\n",
    "        # question = intervention_prompt_format.format(row['Common Sense'])\n",
    "    \n",
    "        answer = row['Interventive_Filler']\n",
    "    \n",
    "        dic_ann = {\n",
    "            'question_type': 'Open-Ended',\n",
    "            'multiple_choice_answer': answer,\n",
    "            'answers': dic_ann['answers'],\n",
    "            'image_id': img,\n",
    "            \"answer_type\": \"other\",\n",
    "            'question_id': i\n",
    "        }\n",
    "\n",
    "        com_sen = \"\"\n",
    "        for j, r in df_sense.iterrows():\n",
    "            if img == r['images'].split(\".\")[0]:\n",
    "                com_sen = r['commonsense_parameters'].split('\\n',1)[-1]\n",
    "                break\n",
    "            \n",
    "        dic_qs = {\n",
    "            'image_id': img,\n",
    "            'question': intervention_prompt_format + com_sen + '. Response:\\n',\n",
    "            'question_id': i\n",
    "        }\n",
    "    \n",
    "        # if i < 0.8*data_csv.shape[0]:\n",
    "        #     data_ann_tr['annotations'].append(dic_ann)\n",
    "        #     data_qs_tr['questions'].append(dic_qs)\n",
    "        # else:\n",
    "        #     data_ann_vl['annotations'].append(dic_ann)\n",
    "        #     data_qs_vl['questions'].append(dic_qs)\n",
    "        data_ann_vl['annotations'].append(dic_ann)\n",
    "        data_qs_vl['questions'].append(dic_qs)\n",
    "    else:\n",
    "        print(f\"./data/coco/mscoco2014/val2014/{row['Img_Name']}\")\n",
    "        continue\n"
   ]
  },
  {
   "cell_type": "code",
   "execution_count": 30,
   "metadata": {},
   "outputs": [
    {
     "name": "stdout",
     "output_type": "stream",
     "text": [
      "dict_keys(['info', 'license', 'data_type', 'data_subtype', 'annotations'])\n",
      "dict_keys(['question_type', 'multiple_choice_answer', 'answers', 'image_id', 'answer_type', 'question_id'])\n",
      "dict_keys(['info', 'task_type', 'data_type', 'license', 'data_subtype', 'questions'])\n",
      "dict_keys(['image_id', 'question', 'question_id'])\n"
     ]
    }
   ],
   "source": [
    "print(data_ann_vl.keys())\n",
    "print(data_ann_vl['annotations'][0].keys())\n",
    "print(data_qs_vl.keys())\n",
    "print(data_qs_vl['questions'][0].keys())"
   ]
  },
  {
   "cell_type": "code",
   "execution_count": 31,
   "metadata": {},
   "outputs": [
    {
     "name": "stdout",
     "output_type": "stream",
     "text": [
      "We should strive to treat others with kindness and empathy, recognizing the diversity and beauty of all individuals.\n"
     ]
    }
   ],
   "source": [
    "print(data_ann_vl['annotations'][0]['multiple_choice_answer'])"
   ]
  },
  {
   "cell_type": "code",
   "execution_count": 32,
   "metadata": {},
   "outputs": [],
   "source": [
    "# with open('./data/train_data/v2_mscoco_train2014_annotations.json', 'w', encoding='utf-8') as f:\n",
    "#     json.dump(data_ann_tr, f, ensure_ascii=False)\n",
    "with open('./data/vqav2/v2_mscoco_val2014_annotations.json', 'w', encoding='utf-8') as f:\n",
    "    json.dump(data_ann_vl, f, ensure_ascii=False)\n",
    "with open('./data/vqav2/v2_mscoco_val2014_annotations_subdata.json', 'w', encoding='utf-8') as f:\n",
    "    json.dump(data_ann_vl, f, ensure_ascii=False)\n",
    "# with open('./data/train_data/v2_OpenEnded_mscoco_train2014_questions.json', 'w', encoding='utf-8') as f:\n",
    "#     json.dump(data_qs_tr, f, ensure_ascii=False)\n",
    "with open('./data/vqav2/v2_OpenEnded_mscoco_val2014_questions.json', 'w', encoding='utf-8') as f:\n",
    "    json.dump(data_qs_vl, f, ensure_ascii=False)"
   ]
  },
  {
   "cell_type": "code",
   "execution_count": 72,
   "metadata": {
    "scrolled": true
   },
   "outputs": [
    {
     "name": "stdout",
     "output_type": "stream",
     "text": [
      "Conversion complete.\n"
     ]
    }
   ],
   "source": [
    "import os\n",
    "from PIL import Image\n",
    "\n",
    "# Specify the directory containing the images\n",
    "directory = \"./data/coco/mscoco2014/val2014\"\n",
    "\n",
    "# Iterate over all files in the directory\n",
    "for filename in os.listdir(directory):\n",
    "    # Full path to the file\n",
    "    file_path = os.path.join(directory, filename)\n",
    "\n",
    "    # Check if the file is an image but not a JPEG\n",
    "    if filename.endswith(('.png', '.gif', '.bmp', '.tiff', '.webp')):\n",
    "        # Open the image\n",
    "        with Image.open(file_path) as img:\n",
    "            # Convert to RGB if necessary (JPEG doesn't support transparency)\n",
    "            if img.mode in (\"RGBA\", \"P\"):\n",
    "                img = img.convert(\"RGB\")\n",
    "\n",
    "            # Save a copy with the same name but .jpeg extension\n",
    "            new_name = os.path.splitext(filename)[0] + \".jpg\"\n",
    "            new_path = os.path.join(directory, new_name)\n",
    "            img.save(new_path, \"JPEG\")\n",
    "\n",
    "            # print(f\"Saved {new_name} as a JPEG.\")\n",
    "\n",
    "print(\"Conversion complete.\")\n"
   ]
  },
  {
   "cell_type": "code",
   "execution_count": 78,
   "metadata": {},
   "outputs": [
    {
     "ename": "UnidentifiedImageError",
     "evalue": "cannot identify image file '/home/student/sayantan/safety_llm/LIVE-Learnable-In-Context-Vector/data/coco/mscoco2014/val2014/5181.jpg'",
     "output_type": "error",
     "traceback": [
      "\u001b[0;31m---------------------------------------------------------------------------\u001b[0m",
      "\u001b[0;31mUnidentifiedImageError\u001b[0m                    Traceback (most recent call last)",
      "Cell \u001b[0;32mIn[78], line 6\u001b[0m\n\u001b[1;32m      2\u001b[0m \u001b[38;5;28;01mimport\u001b[39;00m \u001b[38;5;21;01mmatplotlib\u001b[39;00m\u001b[38;5;21;01m.\u001b[39;00m\u001b[38;5;21;01mimage\u001b[39;00m \u001b[38;5;28;01mas\u001b[39;00m \u001b[38;5;21;01mmpimg\u001b[39;00m\n\u001b[1;32m      4\u001b[0m image_path \u001b[38;5;241m=\u001b[39m \u001b[38;5;124m\"\u001b[39m\u001b[38;5;124m/home/student/sayantan/safety_llm/LIVE-Learnable-In-Context-Vector/data/coco/mscoco2014/val2014/5181.jpg\u001b[39m\u001b[38;5;124m\"\u001b[39m\n\u001b[0;32m----> 6\u001b[0m image \u001b[38;5;241m=\u001b[39m \u001b[43mmpimg\u001b[49m\u001b[38;5;241;43m.\u001b[39;49m\u001b[43mimread\u001b[49m\u001b[43m(\u001b[49m\u001b[43mimage_path\u001b[49m\u001b[43m)\u001b[49m\n\u001b[1;32m      7\u001b[0m plt\u001b[38;5;241m.\u001b[39mimshow(image)\n\u001b[1;32m      8\u001b[0m plt\u001b[38;5;241m.\u001b[39maxis(\u001b[38;5;124m\"\u001b[39m\u001b[38;5;124moff\u001b[39m\u001b[38;5;124m\"\u001b[39m)\n",
      "File \u001b[0;32m~/anaconda3/envs/licv/lib/python3.10/site-packages/matplotlib/image.py:1525\u001b[0m, in \u001b[0;36mimread\u001b[0;34m(fname, format)\u001b[0m\n\u001b[1;32m   1518\u001b[0m \u001b[38;5;28;01mif\u001b[39;00m \u001b[38;5;28misinstance\u001b[39m(fname, \u001b[38;5;28mstr\u001b[39m) \u001b[38;5;129;01mand\u001b[39;00m \u001b[38;5;28mlen\u001b[39m(parse\u001b[38;5;241m.\u001b[39murlparse(fname)\u001b[38;5;241m.\u001b[39mscheme) \u001b[38;5;241m>\u001b[39m \u001b[38;5;241m1\u001b[39m:\n\u001b[1;32m   1519\u001b[0m     \u001b[38;5;66;03m# Pillow doesn't handle URLs directly.\u001b[39;00m\n\u001b[1;32m   1520\u001b[0m     \u001b[38;5;28;01mraise\u001b[39;00m \u001b[38;5;167;01mValueError\u001b[39;00m(\n\u001b[1;32m   1521\u001b[0m         \u001b[38;5;124m\"\u001b[39m\u001b[38;5;124mPlease open the URL for reading and pass the \u001b[39m\u001b[38;5;124m\"\u001b[39m\n\u001b[1;32m   1522\u001b[0m         \u001b[38;5;124m\"\u001b[39m\u001b[38;5;124mresult to Pillow, e.g. with \u001b[39m\u001b[38;5;124m\"\u001b[39m\n\u001b[1;32m   1523\u001b[0m         \u001b[38;5;124m\"\u001b[39m\u001b[38;5;124m``np.array(PIL.Image.open(urllib.request.urlopen(url)))``.\u001b[39m\u001b[38;5;124m\"\u001b[39m\n\u001b[1;32m   1524\u001b[0m         )\n\u001b[0;32m-> 1525\u001b[0m \u001b[38;5;28;01mwith\u001b[39;00m \u001b[43mimg_open\u001b[49m\u001b[43m(\u001b[49m\u001b[43mfname\u001b[49m\u001b[43m)\u001b[49m \u001b[38;5;28;01mas\u001b[39;00m image:\n\u001b[1;32m   1526\u001b[0m     \u001b[38;5;28;01mreturn\u001b[39;00m (_pil_png_to_float_array(image)\n\u001b[1;32m   1527\u001b[0m             \u001b[38;5;28;01mif\u001b[39;00m \u001b[38;5;28misinstance\u001b[39m(image, PIL\u001b[38;5;241m.\u001b[39mPngImagePlugin\u001b[38;5;241m.\u001b[39mPngImageFile) \u001b[38;5;28;01melse\u001b[39;00m\n\u001b[1;32m   1528\u001b[0m             pil_to_array(image))\n",
      "File \u001b[0;32m~/anaconda3/envs/licv/lib/python3.10/site-packages/PIL/Image.py:3309\u001b[0m, in \u001b[0;36mopen\u001b[0;34m(fp, mode, formats)\u001b[0m\n\u001b[1;32m   3307\u001b[0m     warnings\u001b[38;5;241m.\u001b[39mwarn(message)\n\u001b[1;32m   3308\u001b[0m msg \u001b[38;5;241m=\u001b[39m \u001b[38;5;124m\"\u001b[39m\u001b[38;5;124mcannot identify image file \u001b[39m\u001b[38;5;132;01m%r\u001b[39;00m\u001b[38;5;124m\"\u001b[39m \u001b[38;5;241m%\u001b[39m (filename \u001b[38;5;28;01mif\u001b[39;00m filename \u001b[38;5;28;01melse\u001b[39;00m fp)\n\u001b[0;32m-> 3309\u001b[0m \u001b[38;5;28;01mraise\u001b[39;00m UnidentifiedImageError(msg)\n",
      "\u001b[0;31mUnidentifiedImageError\u001b[0m: cannot identify image file '/home/student/sayantan/safety_llm/LIVE-Learnable-In-Context-Vector/data/coco/mscoco2014/val2014/5181.jpg'"
     ]
    }
   ],
   "source": [
    "import matplotlib.pyplot as plt\n",
    "import matplotlib.image as mpimg\n",
    "\n",
    "image_path = \"/home/student/sayantan/safety_llm/LIVE-Learnable-In-Context-Vector/data/coco/mscoco2014/val2014/5181.jpg\"\n",
    "\n",
    "image = mpimg.imread(image_path)\n",
    "plt.imshow(image)\n",
    "plt.axis(\"off\")\n",
    "plt.show()\n"
   ]
  }
 ],
 "metadata": {
  "kernelspec": {
   "display_name": "Python 3 (ipykernel)",
   "language": "python",
   "name": "python3"
  },
  "language_info": {
   "codemirror_mode": {
    "name": "ipython",
    "version": 3
   },
   "file_extension": ".py",
   "mimetype": "text/x-python",
   "name": "python",
   "nbconvert_exporter": "python",
   "pygments_lexer": "ipython3",
   "version": "3.10.15"
  }
 },
 "nbformat": 4,
 "nbformat_minor": 4
}
