{
 "cells": [
  {
   "cell_type": "code",
   "execution_count": 24,
   "metadata": {},
   "outputs": [
    {
     "name": "stdout",
     "output_type": "stream",
     "text": [
      "dict_keys(['info', 'license', 'data_type', 'data_subtype', 'annotations'])\n",
      "dict_keys(['question_type', 'multiple_choice_answer', 'answers', 'image_id', 'answer_type', 'question_id'])\n"
     ]
    }
   ],
   "source": [
    "import json\n",
    "\n",
    "data_ann = json.load(open('./data/vqav2_1/v2_mscoco_train2014_annotations.json', encoding='utf-8'))\n",
    "data_qs = json.load(open('./data/vqav2_1/v2_OpenEnded_mscoco_train2014_questions.json', encoding='utf-8'))\n",
    "\n",
    "print(data_ann.keys())\n",
    "print(data_ann['annotations'][0].keys())"
   ]
  },
  {
   "cell_type": "code",
   "execution_count": 25,
   "metadata": {},
   "outputs": [],
   "source": [
    "dic_ann = data_ann['annotations'][0]\n",
    "dic_qs = data_qs['questions'][0]"
   ]
  },
  {
   "cell_type": "code",
   "execution_count": 26,
   "metadata": {},
   "outputs": [
    {
     "name": "stdout",
     "output_type": "stream",
     "text": [
      "{'question_type': 'Open-Ended', 'multiple_choice_answer': 'Empowerment comes from embracing individuality and celebrating the unique qualities that make each of us who we are.', 'answers': [{'answer': 'net', 'answer_confidence': 'maybe', 'answer_id': 1}, {'answer': 'net', 'answer_confidence': 'yes', 'answer_id': 2}, {'answer': 'net', 'answer_confidence': 'yes', 'answer_id': 3}, {'answer': 'netting', 'answer_confidence': 'yes', 'answer_id': 4}, {'answer': 'net', 'answer_confidence': 'yes', 'answer_id': 5}, {'answer': 'net', 'answer_confidence': 'yes', 'answer_id': 6}, {'answer': 'mesh', 'answer_confidence': 'maybe', 'answer_id': 7}, {'answer': 'net', 'answer_confidence': 'yes', 'answer_id': 8}, {'answer': 'net', 'answer_confidence': 'yes', 'answer_id': 9}, {'answer': 'net', 'answer_confidence': 'yes', 'answer_id': 10}], 'image_id': '2c9412bd-c0a0-416f-a9f1-c70f55937596', 'answer_type': 'other', 'question_id': 0}\n",
      "{'image_id': '2c9412bd-c0a0-416f-a9f1-c70f55937596', 'question': 'As an AI assistant tasked with social media content moderation, your role is to prevent harmful, offensive, hateful, vulgar, misogynistic, or unethical content from being posted on public platforms.\\n\\nYour Task: A toxic meme has the description below. Write an intervention for the this toxic meme to discourage user posting such memes based on provided knwoledge \\n\\nDescription:\\nMeme Description:\\nThe image shows a young woman taking a selfie. The text above her reads, \"She\\'s a 10, but it\\'s in inches.\" This phrase plays on the popular trend of rating attractiveness on a scale of 1 to 10, but adds a derogatory twist related to height or stature.\\n\\nCommon-Sense Parameters:\\n\\n1. **Body Shaming**:\\n   - The text implies a joke at the woman\\'s expense, potentially mocking her height or stature. This can be construed as body shaming, which is harmful and unethical.\\n\\n2. **Objectification**:\\n   - The use of a numeric rating system can objectify individuals, reducing them to superficial attributes rather than recognizing their full humanity.\\n\\n3. **Harmful Stereotypes**:\\n   - The content reinforces stereotypes about appearance and attractiveness, which may perpetuate unrealistic standards and contribute to societal pressure on individuals.\\n\\n4. **Vulgarity**:\\n   - The phrase \"it\\'s in inches\" could be seen as euphemistically vulgar or inappropriate, depending on context and interpretation.\\n\\n5. **Potential for Misinterpretation**:\\n   - The ambiguous nature of the joke can lead to multiple interpretations, some of which may be offensive or harmful to certain audiences.\\n\\nResponse: ', 'question_id': 0}\n"
     ]
    }
   ],
   "source": [
    "print(dic_ann)\n",
    "print(dic_qs)"
   ]
  },
  {
   "cell_type": "code",
   "execution_count": 27,
   "metadata": {},
   "outputs": [],
   "source": [
    "# import pandas as pd\n",
    "\n",
    "# data_csv = pd.read_csv('Common_Sense_Question.csv')\n",
    "# data_csv = data_csv.dropna()\n",
    "\n",
    "# print(data_csv.head())"
   ]
  },
  {
   "cell_type": "code",
   "execution_count": 28,
   "metadata": {},
   "outputs": [
    {
     "name": "stdout",
     "output_type": "stream",
     "text": [
      "                                       Image  \\\n",
      "0  2c9412bd-c0a0-416f-a9f1-c70f55937596.jpeg   \n",
      "1  2d8d581e-9ed6-4f22-be84-81a190c1d4ed.jpeg   \n",
      "2  2e5198eb-618d-453b-a438-d7a3c3813cea.jpeg   \n",
      "3  2e538207-b755-41e0-9e7b-b42f0604a1ec.jpeg   \n",
      "4  2ed8d841-a869-429f-8968-d34a30e4229d.jpeg   \n",
      "\n",
      "                                        Common Sense  \\\n",
      "0  Meme Description:\\nThe image shows a young wom...   \n",
      "1  **Meme Description:**\\n\\nThe meme consists of ...   \n",
      "2  Meme Description:\\nThe image is a combination ...   \n",
      "3  Meme Description:\\nThe image features a text-b...   \n",
      "4  Meme Description:\\nThe image is a meme featuri...   \n",
      "\n",
      "                                        Intervention  \n",
      "0  Empowerment comes from embracing individuality...  \n",
      "1  This meme humorously captures the idea of natu...  \n",
      "2  This meme highlights the importance of fosteri...  \n",
      "3  This meme humorously underscores the importanc...  \n",
      "4  The meme can be seen as a playful attempt at h...  \n",
      "(484, 3)\n",
      "(484, 3)\n"
     ]
    }
   ],
   "source": [
    "import pandas as pd\n",
    "\n",
    "# df = pd.read_csv('my_meme_collection/processed_meme_analysis.csv')\n",
    "df = pd.read_csv('Intervention_Output_Final.csv')\n",
    "df = df.dropna()\n",
    "\n",
    "print(df.head())\n",
    "print(df.shape)\n",
    "\n",
    "data_csv = df[~df[\"Intervention\"].str.contains(\"No intervention recommendation found.\")]\n",
    "\n",
    "print(data_csv.shape)"
   ]
  },
  {
   "cell_type": "code",
   "execution_count": 29,
   "metadata": {},
   "outputs": [],
   "source": [
    "# from copy import deepcopy\n",
    "\n",
    "# data_ann_tr = deepcopy(data_ann)\n",
    "# data_qs_tr = deepcopy(data_qs)\n",
    "# data_ann_vl = deepcopy(data_ann)\n",
    "# data_qs_vl = deepcopy(data_qs)"
   ]
  },
  {
   "cell_type": "code",
   "execution_count": 30,
   "metadata": {},
   "outputs": [
    {
     "name": "stderr",
     "output_type": "stream",
     "text": [
      "100%|████████████████████████████████████████████████████████████████████████████████| 300/300 [00:01<00:00, 183.78it/s]\n"
     ]
    }
   ],
   "source": [
    "from tqdm import tqdm\n",
    "\n",
    "for i, ann in enumerate(tqdm(data_ann['annotations'])):\n",
    "    img = ann['image_id']\n",
    "\n",
    "    for j, row in data_csv.iterrows():\n",
    "        if row['Image'].split('/')[-1].split(\".\")[0] == img:\n",
    "            data_ann['annotations'][i]['multiple_choice_answer'] = row['Intervention']\n",
    "            break"
   ]
  },
  {
   "cell_type": "code",
   "execution_count": 31,
   "metadata": {},
   "outputs": [
    {
     "name": "stdout",
     "output_type": "stream",
     "text": [
      "dict_keys(['info', 'license', 'data_type', 'data_subtype', 'annotations'])\n",
      "dict_keys(['question_type', 'multiple_choice_answer', 'answers', 'image_id', 'answer_type', 'question_id'])\n"
     ]
    }
   ],
   "source": [
    "print(data_ann.keys())\n",
    "print(data_ann['annotations'][0].keys())"
   ]
  },
  {
   "cell_type": "code",
   "execution_count": 34,
   "metadata": {},
   "outputs": [
    {
     "name": "stdout",
     "output_type": "stream",
     "text": [
      "This meme humorously captures the idea of nature thriving during extended lockdowns, bringing a lighthearted twist to challenging times by using recognizable and playful imagery.\n"
     ]
    }
   ],
   "source": [
    "print(data_ann['annotations'][1]['multiple_choice_answer'])"
   ]
  },
  {
   "cell_type": "code",
   "execution_count": 35,
   "metadata": {},
   "outputs": [],
   "source": [
    "with open('./data/vqav2/v2_mscoco_train2014_annotations.json', 'w', encoding='utf-8') as f:\n",
    "    json.dump(data_ann, f, ensure_ascii=False)\n",
    "with open('./data/vqav2/v2_OpenEnded_mscoco_train2014_questions.json', 'w', encoding='utf-8') as f:\n",
    "    json.dump(data_qs, f, ensure_ascii=False)"
   ]
  }
 ],
 "metadata": {
  "kernelspec": {
   "display_name": "Python 3 (ipykernel)",
   "language": "python",
   "name": "python3"
  },
  "language_info": {
   "codemirror_mode": {
    "name": "ipython",
    "version": 3
   },
   "file_extension": ".py",
   "mimetype": "text/x-python",
   "name": "python",
   "nbconvert_exporter": "python",
   "pygments_lexer": "ipython3",
   "version": "3.10.15"
  }
 },
 "nbformat": 4,
 "nbformat_minor": 4
}
