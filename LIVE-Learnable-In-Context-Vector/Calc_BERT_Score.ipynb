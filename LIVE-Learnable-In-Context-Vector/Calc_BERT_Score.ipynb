{
 "cells": [
  {
   "cell_type": "code",
   "execution_count": 1,
   "id": "ab15ef83-5111-45df-8d12-47d39705411b",
   "metadata": {},
   "outputs": [
    {
     "data": {
      "text/plain": [
       "(984, 1)"
      ]
     },
     "execution_count": 1,
     "metadata": {},
     "output_type": "execute_result"
    }
   ],
   "source": [
    "import pandas as pd\n",
    "\n",
    "pred = pd.read_csv('result/Interventive_Content.csv')\n",
    "pred.head()\n",
    "pred.shape"
   ]
  },
  {
   "cell_type": "code",
   "execution_count": 2,
   "id": "074a9912-d6ea-4498-91d1-2ea2a1cb6367",
   "metadata": {},
   "outputs": [
    {
     "name": "stdout",
     "output_type": "stream",
     "text": [
      "984 Making fun of someone's name or physical ability is disrespectful and hurtful.\n"
     ]
    }
   ],
   "source": [
    "import json\n",
    "data = json.load(open('./data/vqav2/v2_mscoco_val2014_annotations_subdata.json', encoding='utf-8'))\n",
    "data = data['annotations']\n",
    "target = []\n",
    "for i in data:\n",
    "    target.append(i['multiple_choice_answer'])\n",
    "print(len(target), target[0])"
   ]
  },
  {
   "cell_type": "code",
   "execution_count": 3,
   "id": "4c7869ad-307c-487f-a0e2-3e32ce2f2119",
   "metadata": {},
   "outputs": [],
   "source": [
    "from transformers import BertTokenizer, BertModel\n",
    "import torch\n",
    "from sklearn.metrics.pairwise import cosine_similarity\n",
    "\n",
    "def bert_sentence_similarity(sentence1, sentence2):\n",
    "    tokenizer = BertTokenizer.from_pretrained('google-bert/bert-base-uncased')\n",
    "    model = BertModel.from_pretrained('google-bert/bert-base-uncased')\n",
    "\n",
    "    inputs1 = tokenizer(sentence1, return_tensors='pt', truncation=True, max_length=512, padding='max_length')\n",
    "    inputs2 = tokenizer(sentence2, return_tensors='pt', truncation=True, max_length=512, padding='max_length')\n",
    "\n",
    "    with torch.no_grad():\n",
    "        outputs1 = model(**inputs1)\n",
    "        outputs2 = model(**inputs2)\n",
    "\n",
    "    cls_embedding1 = outputs1.last_hidden_state[:, 0, :].numpy()\n",
    "    cls_embedding2 = outputs2.last_hidden_state[:, 0, :].numpy()\n",
    "\n",
    "    similarity = cosine_similarity(cls_embedding1, cls_embedding2)\n",
    "    return similarity[0][0]"
   ]
  },
  {
   "cell_type": "code",
   "execution_count": 7,
   "id": "f060716e-225b-4eed-9788-1b8b4032ab6a",
   "metadata": {},
   "outputs": [
    {
     "name": "stderr",
     "output_type": "stream",
     "text": [
      "  0%|                                                                                           | 0/984 [00:00<?, ?it/s]"
     ]
    },
    {
     "data": {
      "application/vnd.jupyter.widget-view+json": {
       "model_id": "a3466bb2074443e8b0b9a72792bb7668",
       "version_major": 2,
       "version_minor": 0
      },
      "text/plain": [
       "tokenizer_config.json:   0%|          | 0.00/48.0 [00:00<?, ?B/s]"
      ]
     },
     "metadata": {},
     "output_type": "display_data"
    },
    {
     "data": {
      "application/vnd.jupyter.widget-view+json": {
       "model_id": "ac5537d6e1174a85b8e7f504293787ec",
       "version_major": 2,
       "version_minor": 0
      },
      "text/plain": [
       "vocab.txt:   0%|          | 0.00/232k [00:00<?, ?B/s]"
      ]
     },
     "metadata": {},
     "output_type": "display_data"
    },
    {
     "data": {
      "application/vnd.jupyter.widget-view+json": {
       "model_id": "0c161639af1a47f7b67594803a05fd1a",
       "version_major": 2,
       "version_minor": 0
      },
      "text/plain": [
       "tokenizer.json:   0%|          | 0.00/466k [00:00<?, ?B/s]"
      ]
     },
     "metadata": {},
     "output_type": "display_data"
    },
    {
     "data": {
      "application/vnd.jupyter.widget-view+json": {
       "model_id": "6531e54142c5473aaf2eeca6b63805ea",
       "version_major": 2,
       "version_minor": 0
      },
      "text/plain": [
       "config.json:   0%|          | 0.00/570 [00:00<?, ?B/s]"
      ]
     },
     "metadata": {},
     "output_type": "display_data"
    },
    {
     "data": {
      "application/vnd.jupyter.widget-view+json": {
       "model_id": "9de8b662a6764c2a8e2e46c3968990c8",
       "version_major": 2,
       "version_minor": 0
      },
      "text/plain": [
       "model.safetensors:   0%|          | 0.00/440M [00:00<?, ?B/s]"
      ]
     },
     "metadata": {},
     "output_type": "display_data"
    },
    {
     "name": "stderr",
     "output_type": "stream",
     "text": [
      "100%|█████████████████████████████████████████████████████████████████████████████████| 984/984 [20:52<00:00,  1.27s/it]\n"
     ]
    }
   ],
   "source": [
    "from tqdm import tqdm\n",
    "\n",
    "bert = 0\n",
    "for i in tqdm(range(len(target))):\n",
    "    bert += bert_sentence_similarity(target[i], pred.iloc[i]['Content'])\n",
    "bert /= len(target)"
   ]
  },
  {
   "cell_type": "code",
   "execution_count": 8,
   "id": "0e14fdf1-ace2-4f64-83d1-d63d9f24ac9b",
   "metadata": {},
   "outputs": [
    {
     "name": "stdout",
     "output_type": "stream",
     "text": [
      "0.7661371389782525\n"
     ]
    }
   ],
   "source": [
    "print(bert)"
   ]
  }
 ],
 "metadata": {
  "kernelspec": {
   "display_name": "Python 3 (ipykernel)",
   "language": "python",
   "name": "python3"
  },
  "language_info": {
   "codemirror_mode": {
    "name": "ipython",
    "version": 3
   },
   "file_extension": ".py",
   "mimetype": "text/x-python",
   "name": "python",
   "nbconvert_exporter": "python",
   "pygments_lexer": "ipython3",
   "version": "3.10.15"
  }
 },
 "nbformat": 4,
 "nbformat_minor": 5
}
